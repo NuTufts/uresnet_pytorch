{
 "cells": [
  {
   "cell_type": "code",
   "execution_count": null,
   "id": "9e69a95f",
   "metadata": {},
   "outputs": [],
   "source": [
    "from __future__ import print_function\n",
    "import os,sys\n",
    "import ROOT as rt\n",
    "from larlite import larlite\n",
    "from ROOT import larutil\n",
    "from larcv import larcv\n",
    "import chart_studio.plotly as py\n",
    "import plotly.graph_objects as go\n",
    "import numpy as np"
   ]
  },
  {
   "cell_type": "code",
   "execution_count": null,
   "id": "fe57902e",
   "metadata": {},
   "outputs": [],
   "source": [
    "# LOAD THE FILE\n",
    "output_files = [\"test.root\"]\n",
    "iolcv = larcv.IOManager( larcv.IOManager.kREAD )\n",
    "for f in output_files:\n",
    "    iolcv.add_in_file( f )\n",
    "iolcv.initialize()\n",
    "nentries = iolcv.get_n_entries()"
   ]
  },
  {
   "cell_type": "code",
   "execution_count": null,
   "id": "561ffac4",
   "metadata": {},
   "outputs": [],
   "source": [
    "# SETUP THE GEOMETRY\n",
    "\n",
    "# Set the detector in larlite\n",
    "detid = larlite.geo.kICARUS\n",
    "#detid = larlite.geo.kMicroBooNE\n",
    "#detid = larlite.geo.kSBND\n",
    "larutil.LArUtilConfig.SetDetector(detid)\n",
    "\n",
    "# Get geometry class\n",
    "geo = larlite.larutil.Geometry.GetME()\n",
    "\n",
    "# Get detector outlines from lardly\n",
    "from lardly.detectors.getdetectoroutlines import DetectorOutlineFromLarlite\n",
    "detoutline = DetectorOutlineFromLarlite(detid)\n",
    "detlines = detoutline.getlines()"
   ]
  },
  {
   "cell_type": "code",
   "execution_count": null,
   "id": "47c6876c",
   "metadata": {},
   "outputs": [],
   "source": [
    "# define a function that will turn our image2d into a lardly plot\n",
    "# modified from lardly.data.visualize_larcv_image2d\n",
    "\n",
    "def visualize_larcv_image2d( image2d, minz=0.0, maxz=200.0, reverse_ticks=False, uvplane_maxcols=2400 ):\n",
    "    meta = image2d.meta()\n",
    "    imgnp = np.transpose( larcv.as_ndarray( image2d ), (1,0) )\n",
    "    if uvplane_maxcols is not None and meta.plane() in [0,1]:\n",
    "        imgnp = imgnp[:,0:uvplane_maxcols]\n",
    "        maxx = uvplane_maxcols\n",
    "    else:\n",
    "        maxx = meta.max_x()\n",
    "    #print(\"image shape: \",imgnp.shape,\" maxx=\",maxx)\n",
    "    xaxis = np.linspace( meta.min_x(), maxx, endpoint=False, num=int(maxx/meta.pixel_width()) )\n",
    "    yaxis = np.linspace( meta.min_y(), meta.max_y(), endpoint=False, num=meta.rows() )\n",
    "    #print(type(imgnp),type(xaxis),type(yaxis))\n",
    "\n",
    "    imgnp[ imgnp<minz ] = 0\n",
    "    imgnp[ imgnp>maxz ] = maxz\n",
    "\n",
    "    if reverse_ticks:\n",
    "        imgnp = np.flip( imgnp, axis=0 )\n",
    "\n",
    "    heatmap = {\n",
    "        #\"type\":\"heatmapgl\",                                                                                                                                                                  \n",
    "        \"type\":\"heatmap\",\n",
    "        \"z\":imgnp,\n",
    "        \"x\":xaxis,\n",
    "        \"y\":yaxis,\n",
    "        \"colorscale\":\"Jet\",\n",
    "        }\n",
    "    return heatmap\n"
   ]
  },
  {
   "cell_type": "code",
   "execution_count": null,
   "id": "27092cb6",
   "metadata": {},
   "outputs": [],
   "source": [
    "# Get entry data\n",
    "ENTRY = 0\n",
    "iolcv.read_entry(ENTRY)\n",
    "\n",
    "ev_spimg = iolcv.get_data(larcv.kProductSparseImage,'sparsessnet')\n",
    "ev_input = iolcv.get_data(larcv.kProductImage2D,'ssnetinput')\n",
    "ssnet_v = []\n",
    "input_v = []\n",
    "for i in range(ev_spimg.SparseImageArray().size()):\n",
    "    spimg = ev_spimg.SparseImageArray().at(i)\n",
    "    print(\"spimg[\",i,\"] len=\",spimg.len())\n",
    "    if spimg.len()==0:\n",
    "        continue\n",
    "    nelems = spimg.len()\n",
    "    ssnet = larcv.Image2D( spimg.meta(0) )\n",
    "    stride = spimg.stride()\n",
    "    print(\"spimg[\",i,\"] meta=\",ssnet.meta().dump())\n",
    "    for ipix in range(nelems):\n",
    "        maxclass = 0\n",
    "        maxscore = 0\n",
    "        showerscore = 0\n",
    "        trackscore  = 0\n",
    "        for iclass in range(spimg.nfeatures()):\n",
    "            score = spimg.pixellist().at( ipix*stride + 2 + iclass )\n",
    "            if iclass<=1:\n",
    "                trackscore  += score\n",
    "            else:\n",
    "                showerscore += score\n",
    "            if score>maxscore:\n",
    "                maxclass = iclass\n",
    "                maxscore = score\n",
    "        irow = int(spimg.pixellist().at( ipix*stride ))\n",
    "        icol = int(spimg.pixellist().at( ipix*stride+1))\n",
    "        #print(irow,icol)\n",
    "        if showerscore>trackscore:\n",
    "            # LABEL SHOWER WITH 1\n",
    "            ssnet.set_pixel(irow,icol,1)\n",
    "        else:\n",
    "            # LABEL TRACK WITH 2\n",
    "            ssnet.set_pixel(irow,icol,2)\n",
    "    ssnet_v.append(ssnet) \n",
    "    input_v.append( ev_input.as_vector()[i] )"
   ]
  },
  {
   "cell_type": "code",
   "execution_count": null,
   "id": "75a1791d",
   "metadata": {},
   "outputs": [],
   "source": [
    "IMG_INDEX = 5\n",
    "fig1 = go.Figure(data=[visualize_larcv_image2d( ssnet_v[IMG_INDEX], reverse_ticks=False )],\n",
    "                layout={\"height\":800})\n",
    "fig1.show()\n",
    "fig2 = go.Figure(data=[visualize_larcv_image2d( input_v[IMG_INDEX], reverse_ticks=False )],\n",
    "                layout={\"height\":800})\n",
    "fig2.show()"
   ]
  },
  {
   "cell_type": "code",
   "execution_count": null,
   "id": "72bf55f1",
   "metadata": {},
   "outputs": [],
   "source": []
  }
 ],
 "metadata": {
  "kernelspec": {
   "display_name": "Python 3 (ipykernel)",
   "language": "python",
   "name": "python3"
  },
  "language_info": {
   "codemirror_mode": {
    "name": "ipython",
    "version": 3
   },
   "file_extension": ".py",
   "mimetype": "text/x-python",
   "name": "python",
   "nbconvert_exporter": "python",
   "pygments_lexer": "ipython3",
   "version": "3.9.7"
  }
 },
 "nbformat": 4,
 "nbformat_minor": 5
}
